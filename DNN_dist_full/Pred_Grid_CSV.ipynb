{
 "cells": [
  {
   "cell_type": "code",
   "execution_count": 4,
   "metadata": {
    "scrolled": true
   },
   "outputs": [
    {
     "name": "stdout",
     "output_type": "stream",
     "text": [
      "Processing!!!\n",
      "F1 and Fold1 and 74\n",
      "6\n",
      "F1 and Fold2 and 77\n",
      "6\n",
      "F1 and Fold3 and 83\n",
      "8\n",
      "F1 and Fold4 and 80\n",
      "6\n",
      "F2 and Fold1 and 86\n",
      "8\n",
      "F2 and Fold2 and 85\n",
      "8\n",
      "F2 and Fold3 and 90\n",
      "8\n",
      "F2 and Fold4 and 87\n",
      "8\n",
      "M1 and Fold1 and 86\n",
      "8\n",
      "M1 and Fold2 and 88\n",
      "8\n",
      "M1 and Fold3 and 90\n",
      "8\n",
      "M1 and Fold4 and 92\n",
      "10\n",
      "M2 and Fold1 and 92\n",
      "10\n",
      "M2 and Fold2 and 86\n",
      "8\n",
      "M2 and Fold3 and 86\n",
      "8\n",
      "M2 and Fold4 and 81\n",
      "6\n",
      "Done!!!\n"
     ]
    }
   ],
   "source": [
    "import numpy\n",
    "import pandas\n",
    "from keras.models import Sequential\n",
    "from keras.layers import Dense\n",
    "from keras.wrappers.scikit_learn import KerasRegressor\n",
    "from sklearn.model_selection import cross_val_score\n",
    "from sklearn.model_selection import KFold\n",
    "from sklearn.preprocessing import StandardScaler\n",
    "from sklearn.pipeline import Pipeline\n",
    "from keras.layers import Dropout\n",
    "from keras.optimizers import RMSprop\n",
    "from sklearn.cross_validation import cross_val_score, KFold\n",
    "from sklearn.metrics import mean_squared_error\n",
    "from sklearn.metrics import r2_score\n",
    "import math\n",
    "from keras.models import load_model\n",
    "import os\n",
    "from scipy.io import loadmat\n",
    "\n",
    "sub=['F1','F2','M1','M2']\n",
    "fold=['Fold1','Fold2','Fold3','Fold4']\n",
    "# sub = ['M2']\n",
    "# fold = ['Fold1']\n",
    "seg='Upper'\n",
    "print('Processing!!!')\n",
    "mat1 = loadmat(seg+'/'+\"best_per_all.mat\")\n",
    "best = mat1['best_per_all']\n",
    "for s in sub:\n",
    "    for f in fold:\n",
    "        ind = fold.index(f)\n",
    "        inds = sub.index(s)\n",
    "        p = best[inds][0][0][ind][0][0]\n",
    "        print(s+' and '+ f + ' and ' + str(p))\n",
    "        mat = loadmat(seg+'/'+s+'/'+\"pxl_np_\"+str(p)+\".mat\")\n",
    "        np_fold = mat['pxl_np']\n",
    "        model = load_model(seg+'/'+s+'/'+f+'/'+'Model_GridWise_dev_'+str(p)+'.hdf5')\n",
    "#             dataset = pandas.read_csv(seg+'/'+s+'/'+f+'/'+\"Grid_Wise_Test_\"+str(p)+\".csv\", delimiter=\",\",header = None)            \n",
    "#             dataset.fillna(dataset.mean(), inplace=True)\n",
    "#             dataset = dataset.as_matrix(columns = None)\n",
    "        dataset = pandas.read_csv(seg+'/'+s+'/'+f+'/'+\"Test_Intensity_Data.csv\", delimiter=\",\",header = None)\n",
    "        dataset.fillna(dataset.mean(), inplace=True)\n",
    "        dataset = dataset.as_matrix(columns = None)\n",
    "        np = np_fold[0,ind][1][0][0]\n",
    "        print(np)\n",
    "        possi = []\n",
    "        for i in range(0,np+1):\n",
    "            possi.append(numpy.round(model.predict(dataset[:,i*(np+1):(i+1)*(np+1)]),decimals=3))\n",
    "        possi = numpy.squeeze(numpy.asarray(possi))\n",
    "        numpy.savetxt(seg+'/'+s+'/'+f+'/'+\"Pred_Data_Grid.csv\", possi, delimiter=\",\")\n",
    "        possi = []\n",
    "        mat = []\n",
    "        dataset = []\n",
    "print('Done!!!')"
   ]
  },
  {
   "cell_type": "code",
   "execution_count": 61,
   "metadata": {
    "collapsed": true
   },
   "outputs": [
    {
     "name": "stdout",
     "output_type": "stream",
     "text": [
      "[0.68996384 0.66442408 0.6089363  0.5553897  0.41958738 0.37956538\n",
      " 0.36963183 0.13224264 0.35510246 0.34185546 0.35028507]\n"
     ]
    },
    {
     "data": {
      "text/plain": [
       "(11, 17040)"
      ]
     },
     "execution_count": 61,
     "metadata": {},
     "output_type": "execute_result"
    }
   ],
   "source": [
    "a = a1[k].reshape(1,l1)\n",
    "a = numpy.array([numpy.concatenate(i, axis=0) for i in a])\n",
    "a = numpy.squeeze(a)\n",
    "print(a[0])\n",
    "pred = numpy.round(model.predict(a),decimals=3)\n",
    "pred[5]\n",
    "possi.shape"
   ]
  },
  {
   "cell_type": "code",
   "execution_count": 19,
   "metadata": {
    "collapsed": true
   },
   "outputs": [
    {
     "name": "stdout",
     "output_type": "stream",
     "text": [
      "[[array([[array([[96]], dtype=uint8), array([[95]], dtype=uint8),\n",
      "        array([[95]], dtype=uint8), array([[98]], dtype=uint8)]],\n",
      "      dtype=object)]\n",
      " [array([[array([[95]], dtype=uint8), array([[95]], dtype=uint8),\n",
      "        array([[97]], dtype=uint8), array([[95]], dtype=uint8)]],\n",
      "      dtype=object)]\n",
      " [array([[array([[96]], dtype=uint8), array([[95]], dtype=uint8),\n",
      "        array([[95]], dtype=uint8), array([[96]], dtype=uint8)]],\n",
      "      dtype=object)]\n",
      " [array([[array([[95]], dtype=uint8), array([[95]], dtype=uint8),\n",
      "        array([[95]], dtype=uint8), array([[95]], dtype=uint8)]],\n",
      "      dtype=object)]]\n",
      "98\n"
     ]
    }
   ],
   "source": [
    "from scipy.io import loadmat\n",
    "import numpy\n",
    "mat1 = loadmat(\"Autorun_Ton1/best_per_all.mat\")\n",
    "best = mat1['best_per_all']\n",
    "sub = 0\n",
    "fold = 3\n",
    "print(best)\n",
    "print(best[sub][0][0][fold][0][0])"
   ]
  }
 ],
 "metadata": {
  "kernelspec": {
   "display_name": "Python 3",
   "language": "python",
   "name": "python3"
  },
  "language_info": {
   "codemirror_mode": {
    "name": "ipython",
    "version": 3
   },
   "file_extension": ".py",
   "mimetype": "text/x-python",
   "name": "python",
   "nbconvert_exporter": "python",
   "pygments_lexer": "ipython3",
   "version": "3.6.3"
  }
 },
 "nbformat": 4,
 "nbformat_minor": 2
}
